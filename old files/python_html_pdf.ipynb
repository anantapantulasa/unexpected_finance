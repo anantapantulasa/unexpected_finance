{
 "cells": [
  {
   "cell_type": "code",
   "execution_count": 1,
   "metadata": {},
   "outputs": [
    {
     "name": "stdout",
     "output_type": "stream",
     "text": [
      "[NbConvertApp] Converting notebook /Users/saranyaanantapantula/Documents/GitHub/unexpected_finance/Appendix_Code.ipynb to html\n",
      "[NbConvertApp] WARNING | Alternative text is missing on 8 image(s).\n",
      "[NbConvertApp] Writing 644948 bytes to /Users/saranyaanantapantula/Documents/GitHub/unexpected_finance/Appendix_Code.html\n"
     ]
    }
   ],
   "source": [
    "!jupyter nbconvert --to html \"/Users/saranyaanantapantula/Documents/GitHub/unexpected_finance/Appendix_Code.ipynb\""
   ]
  }
 ],
 "metadata": {
  "kernelspec": {
   "display_name": "Python 3",
   "language": "python",
   "name": "python3"
  },
  "language_info": {
   "codemirror_mode": {
    "name": "ipython",
    "version": 3
   },
   "file_extension": ".py",
   "mimetype": "text/x-python",
   "name": "python",
   "nbconvert_exporter": "python",
   "pygments_lexer": "ipython3",
   "version": "3.12.1"
  }
 },
 "nbformat": 4,
 "nbformat_minor": 2
}
