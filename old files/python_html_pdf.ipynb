{
 "cells": [
  {
   "cell_type": "code",
   "execution_count": 3,
   "metadata": {},
   "outputs": [
    {
     "name": "stderr",
     "output_type": "stream",
     "text": [
      "Python(41327) MallocStackLogging: can't turn off malloc stack logging because it was not enabled.\n"
     ]
    },
    {
     "name": "stdout",
     "output_type": "stream",
     "text": [
      "[NbConvertApp] Converting notebook /Users/saranyaanantapantula/Documents/GitHub/unexpected_finance/replication_package/Appendix_Code.ipynb to html\n",
      "[NbConvertApp] WARNING | Alternative text is missing on 8 image(s).\n",
      "[NbConvertApp] Writing 735677 bytes to /Users/saranyaanantapantula/Documents/GitHub/unexpected_finance/replication_package/Appendix_Code.html\n"
     ]
    }
   ],
   "source": [
    "!jupyter nbconvert --to html \"/Users/saranyaanantapantula/Documents/GitHub/unexpected_finance/replication_package/Appendix_Code.ipynb\""
   ]
  },
  {
   "cell_type": "code",
   "execution_count": null,
   "metadata": {},
   "outputs": [],
   "source": []
  }
 ],
 "metadata": {
  "kernelspec": {
   "display_name": "Python 3",
   "language": "python",
   "name": "python3"
  },
  "language_info": {
   "codemirror_mode": {
    "name": "ipython",
    "version": 3
   },
   "file_extension": ".py",
   "mimetype": "text/x-python",
   "name": "python",
   "nbconvert_exporter": "python",
   "pygments_lexer": "ipython3",
   "version": "3.12.1"
  }
 },
 "nbformat": 4,
 "nbformat_minor": 2
}
